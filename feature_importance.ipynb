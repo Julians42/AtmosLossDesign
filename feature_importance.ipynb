{
 "cells": [
  {
   "cell_type": "code",
   "execution_count": 1,
   "metadata": {},
   "outputs": [
    {
     "name": "stderr",
     "output_type": "stream",
     "text": [
      "\u001b[32m\u001b[1m  Activating\u001b[22m\u001b[39m project at `/central/groups/esm/jschmitt/experiments/feature_importance`\n"
     ]
    }
   ],
   "source": [
    "using Pkg; Pkg.activate(\".\")"
   ]
  },
  {
   "cell_type": "code",
   "execution_count": 2,
   "metadata": {},
   "outputs": [],
   "source": [
    "import EnsembleKalmanProcesses as EKP\n",
    "import ScikitLearn\n",
    "import YAML\n",
    "import JLD2\n",
    "import ClimaCalibrate as CAL\n",
    "import CalibrateEmulateSample as CES\n",
    "using Statistics\n",
    "using CairoMakie"
   ]
  },
  {
   "cell_type": "code",
   "execution_count": 3,
   "metadata": {},
   "outputs": [],
   "source": [
    "simdir = \"/central/scratch/cchristo/edmf_impl_dev4/exp24\"\n",
    "\n",
    "# load objects \n",
    "eki = JLD2.load_object(simdir * \"/iteration_005/\" * \"eki_file.jld2\")\n",
    "prior = CAL.get_prior(simdir * \"/configs/\" * \"prior.toml\");\n"
   ]
  },
  {
   "cell_type": "code",
   "execution_count": 4,
   "metadata": {},
   "outputs": [],
   "source": [
    "u_ar = EKP.get_u(eki)\n",
    "ϕ_ar = EKP.get_ϕ(prior, eki);"
   ]
  },
  {
   "cell_type": "code",
   "execution_count": 4,
   "metadata": {},
   "outputs": [
    {
     "data": {
      "text/plain": [
       "450×1000 Matrix{Float64}:\n",
       " NaN  NaN  -0.786581  NaN  -0.789177  …  -0.787218  -0.774074  -0.775963\n",
       " NaN  NaN  -0.784856  NaN  -0.782471     -0.785951  -0.77053   -0.773113\n",
       " NaN  NaN  -0.782901  NaN  -0.779809     -0.78478   -0.767738  -0.770851\n",
       " NaN  NaN  -0.777458  NaN  -0.770114     -0.78322   -0.763391  -0.76581\n",
       " NaN  NaN  -0.754195  NaN  -0.737448     -0.77879   -0.750477  -0.746282\n",
       " NaN  NaN  -0.701632  NaN  -0.681481  …  -0.762366  -0.717259  -0.711948\n",
       " NaN  NaN  -0.643697  NaN  -0.603201     -0.721708  -0.662628  -0.657243\n",
       " NaN  NaN  -0.566422  NaN  -0.564412     -0.637772  -0.59453   -0.597246\n",
       " NaN  NaN  -0.509719  NaN  -0.470425     -0.504008  -0.507891  -0.535852\n",
       " NaN  NaN  -0.388017  NaN  -0.332571     -0.365707  -0.390785  -0.409201\n",
       "   ⋮                                  ⋱                        \n",
       " NaN  NaN  -0.765171  NaN   1.42862       1.51535    1.54458    1.57666\n",
       " NaN  NaN   0.9267    NaN   1.45256       1.53243    1.51677    1.57231\n",
       " NaN  NaN   1.32629   NaN   1.47387       1.54326    1.53496    1.55852\n",
       " NaN  NaN   1.40559   NaN   1.45906       1.53461    1.52806    1.54342\n",
       " NaN  NaN   1.41941   NaN   1.36366   …   1.42598    1.44885    1.46632\n",
       " NaN  NaN   1.25166   NaN   0.98157       1.09294    1.0749     1.14956\n",
       " NaN  NaN  -0.531129  NaN  -0.754533     -0.74229   -0.744911  -0.731931\n",
       " NaN  NaN  -0.765171  NaN  -0.765171     -0.765171  -0.765171  -0.765171\n",
       " NaN  NaN  -0.765171  NaN  -0.765171     -0.765171  -0.765171  -0.765171"
      ]
     },
     "metadata": {},
     "output_type": "display_data"
    }
   ],
   "source": [
    "# extract training pairs from CES\n",
    "training_pairs = CES.Utilities.get_training_points(eki, 5)\n",
    "\n",
    "Y = training_pairs.inputs.stored_data\n",
    "X = training_pairs.outputs.stored_data"
   ]
  },
  {
   "cell_type": "code",
   "execution_count": 22,
   "metadata": {},
   "outputs": [
    {
     "data": {
      "text/plain": [
       "false"
      ]
     },
     "metadata": {},
     "output_type": "display_data"
    }
   ],
   "source": [
    "any(isnan.(X[:, 3]))"
   ]
  },
  {
   "cell_type": "code",
   "execution_count": 23,
   "metadata": {},
   "outputs": [
    {
     "ename": "UndefVarError",
     "evalue": "UndefVarError: `lines` not defined in `Main`\nSuggestion: check for spelling errors or missing imports.",
     "output_type": "error",
     "traceback": [
      "UndefVarError: `lines` not defined in `Main`\n",
      "Suggestion: check for spelling errors or missing imports.\n",
      "\n",
      "Stacktrace:\n",
      " [1] top-level scope\n",
      "   @ /central/groups/esm/jschmitt/experiments/feature_importance/jl_notebook_cell_df34fa98e69747e1a8f8a730347b8e2f_W6sdnNjb2RlLXJlbW90ZQ==.jl:1"
     ]
    }
   ],
   "source": [
    "lines(X[:, 3])"
   ]
  },
  {
   "cell_type": "code",
   "execution_count": null,
   "metadata": {},
   "outputs": [],
   "source": []
  },
  {
   "cell_type": "code",
   "execution_count": null,
   "metadata": {},
   "outputs": [],
   "source": [
    "using DecisionTree\n",
    "model = RandomForestRegressor(n_trees = 100, max_depth = 5)\n",
    "fit!(model, X', Y[1, :]) # fit the opposite way "
   ]
  },
  {
   "cell_type": "code",
   "execution_count": 32,
   "metadata": {},
   "outputs": [
    {
     "name": "stdout",
     "output_type": "stream",
     "text": [
      "mixing_length_tke_surf_scale\n",
      "perturbation: 0.8\n",
      "0.4405975125925878\n",
      "perturbation: 1.0\n",
      "0.5507468907407347\n",
      "perturbation: 1.2\n",
      "0.6608962688888816\n",
      " \n",
      "mixing_length_diss_coeff\n",
      "perturbation: 0.8\n",
      "0.10812017509593222\n",
      "perturbation: 1.0\n",
      "0.13515021886991527\n",
      "perturbation: 1.2\n",
      "0.16218026264389832\n",
      " \n",
      "diagnostic_covariance_coeff\n",
      "perturbation: 0.8\n",
      "1.4869700341824448\n",
      "perturbation: 1.0\n",
      "1.858712542728056\n",
      "perturbation: 1.2\n",
      "2.230455051273667\n",
      " \n",
      "entr_param_vec\n",
      "perturbation: 0.8\n",
      "[0.6585961475698758, 0.0470215276565385, 0.3050301571066385, 1.4017120407046655, -0.25719862728188864, -0.015811905221975134, -0.0474151148915126, 0.2888208640927998, 0.4328989052513739, -0.3745204090910681, 0.8539956129081535, 0.31035694755347204]\n",
      "perturbation: 1.0\n",
      "[0.8232451844623447, 0.058776909570673115, 0.3812876963832981, 1.7521400508808318, -0.32149828410236075, -0.019764881527468917, -0.05926889361439075, 0.3610260801159997, 0.5411236315642174, -0.4681505113638351, 1.0674945161351919, 0.38794618444184004]\n",
      "perturbation: 1.2\n",
      "[0.9878942213548136, 0.07053229148480773, 0.45754523565995775, 2.102568061056998, -0.38579794092283287, -0.0237178578329627, -0.07112267233726889, 0.4332312961391996, 0.6493483578770608, -0.5617806136366021, 1.28099341936223, 0.46553542133020803]\n",
      " \n",
      "EDMF_surface_area\n",
      "perturbation: 0.8\n",
      "0.0797187483793213\n",
      "perturbation: 1.0\n",
      "0.09964843547415161\n",
      "perturbation: 1.2\n",
      "0.11957812256898193\n",
      " \n",
      "mixing_length_eddy_viscosity_coefficient\n",
      "perturbation: 0.8\n",
      "0.10350543995987223\n",
      "perturbation: 1.0\n",
      "0.12938179994984028\n",
      "perturbation: 1.2\n",
      "0.15525815993980832\n",
      " \n",
      "turb_entr_param_vec\n",
      "perturbation: 0.8\n",
      "[0.021560259439268543, 2875.5880603339215]\n",
      "perturbation: 1.0\n",
      "[0.026950324299085678, 3594.4850754174017]\n",
      "perturbation: 1.2\n",
      "[0.03234038915890281, 4313.3820905008815]\n",
      " \n",
      "pressure_normalmode_drag_coeff\n",
      "perturbation: 0.8\n",
      "20.697640036613492\n",
      "perturbation: 1.0\n",
      "25.872050045766862\n",
      "perturbation: 1.2\n",
      "31.04646005492023\n",
      " \n",
      "mixing_length_Prandtl_number_0\n",
      "perturbation: 0.8\n",
      "0.8664885250222133\n",
      "perturbation: 1.0\n",
      "1.0831106562777666\n",
      "perturbation: 1.2\n",
      "1.2997327875333198\n",
      " \n",
      "mixing_length_static_stab_coeff\n",
      "perturbation: 0.8\n",
      "0.17100224594754931\n",
      "perturbation: 1.0\n",
      "0.21375280743443664\n",
      "perturbation: 1.2\n",
      "0.25650336892132397\n",
      " \n",
      "pressure_normalmode_buoy_coeff1\n",
      "perturbation: 0.8\n",
      "0.1409767366357694\n",
      "perturbation: 1.0\n",
      "0.17622092079471174\n",
      "perturbation: 1.2\n",
      "0.2114651049536541\n",
      " \n"
     ]
    }
   ],
   "source": [
    "# load toml \n",
    "using TOML \n",
    "perturbations = [0.8, 1.0, 1.2]\n",
    "default_toml = TOML.parsefile(\"tomls/simple_precalibrated.toml\")\n",
    "toml_list = []\n",
    "exp_root = \"perturbed\"\n",
    "if !isdir(exp_root)\n",
    "    mkdir(exp_root)\n",
    "end\n",
    "# default_toml[collect(keys(default_toml))[1]][\"value\"]\n",
    "for (k, v) in default_toml\n",
    "    println(k)\n",
    "    if !isdir(joinpath(exp_root, k))\n",
    "        mkdir(joinpath(exp_root, k))\n",
    "    end\n",
    "    #println(v[\"value\"])\n",
    "    for perturbation in perturbations\n",
    "        cptoml = deepcopy(default_toml)\n",
    "        println(\"perturbation: \", perturbation)\n",
    "        cptoml[k][\"value\"] = v[\"value\"] .* perturbation\n",
    "        println(cptoml[k][\"value\"])\n",
    "        if !isdir(joinpath(exp_root, k, string(perturbation)))\n",
    "            mkdir(joinpath(exp_root, k, string(perturbation)))\n",
    "        end\n",
    "        # save new cptoml to this directory\n",
    "        open(joinpath(exp_root, k, string(perturbation), \"parameters.toml\"), \"w\") do io\n",
    "            TOML.print(io, cptoml)\n",
    "        end\n",
    "        push!(toml_list, joinpath(exp_root, k, string(perturbation), \"parameters.toml\"))\n",
    "    end\n",
    "    println(\" \")\n",
    "end\n",
    "\n"
   ]
  },
  {
   "cell_type": "code",
   "execution_count": 33,
   "metadata": {},
   "outputs": [
    {
     "data": {
      "text/plain": [
       "33-element Vector{Any}:\n",
       " \"perturbed/mixing_length_tke_surf_scale/0.8/parameters.toml\"\n",
       " \"perturbed/mixing_length_tke_surf_scale/1.0/parameters.toml\"\n",
       " \"perturbed/mixing_length_tke_surf_scale/1.2/parameters.toml\"\n",
       " \"perturbed/mixing_length_diss_coeff/0.8/parameters.toml\"\n",
       " \"perturbed/mixing_length_diss_coeff/1.0/parameters.toml\"\n",
       " \"perturbed/mixing_length_diss_coeff/1.2/parameters.toml\"\n",
       " \"perturbed/diagnostic_covariance_coeff/0.8/parameters.toml\"\n",
       " \"perturbed/diagnostic_covariance_coeff/1.0/parameters.toml\"\n",
       " \"perturbed/diagnostic_covariance_coeff/1.2/parameters.toml\"\n",
       " \"perturbed/entr_param_vec/0.8/parameters.toml\"\n",
       " ⋮\n",
       " \"perturbed/mixing_length_Prandtl_number_0/0.8/parameters.toml\"\n",
       " \"perturbed/mixing_length_Prandtl_number_0/1.0/parameters.toml\"\n",
       " \"perturbed/mixing_length_Prandtl_number_0/1.2/parameters.toml\"\n",
       " \"perturbed/mixing_length_static_stab_coeff/0.8/parameters.toml\"\n",
       " \"perturbed/mixing_length_static_stab_coeff/1.0/parameters.toml\"\n",
       " \"perturbed/mixing_length_static_stab_coeff/1.2/parameters.toml\"\n",
       " \"perturbed/pressure_normalmode_buoy_coeff1/0.8/parameters.toml\"\n",
       " \"perturbed/pressure_normalmode_buoy_coeff1/1.0/parameters.toml\"\n",
       " \"perturbed/pressure_normalmode_buoy_coeff1/1.2/parameters.toml\""
      ]
     },
     "metadata": {},
     "output_type": "display_data"
    }
   ],
   "source": [
    "toml_list"
   ]
  },
  {
   "cell_type": "code",
   "execution_count": null,
   "metadata": {},
   "outputs": [],
   "source": [
    "for param in params \n",
    "    for percent in [.8, .9, 1. ,1.1, 1.2]\n",
    "        TOML = toml.copy()\n",
    "        TOML[\"prior\"][\"parameters\"][param][\"mean\"] = percent * prior.parameters[param].mean\n",
    "        TOML.print(\"parameter/percent.toml\")\n",
    "    end\n",
    "end\n",
    "\n",
    "# save toml to each member folder\n",
    "CAL.run_worker_iteration()"
   ]
  },
  {
   "cell_type": "code",
   "execution_count": null,
   "metadata": {},
   "outputs": [],
   "source": []
  },
  {
   "cell_type": "code",
   "execution_count": null,
   "metadata": {},
   "outputs": [],
   "source": []
  }
 ],
 "metadata": {
  "kernelspec": {
   "display_name": "Julia 1.11.4",
   "language": "julia",
   "name": "julia-1.11"
  },
  "language_info": {
   "file_extension": ".jl",
   "mimetype": "application/julia",
   "name": "julia",
   "version": "1.11.4"
  }
 },
 "nbformat": 4,
 "nbformat_minor": 2
}
